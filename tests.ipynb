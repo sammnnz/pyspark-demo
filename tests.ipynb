{
 "cells": [
  {
   "cell_type": "markdown",
   "id": "3543b5f8",
   "metadata": {},
   "source": [
    "# Tests"
   ]
  },
  {
   "cell_type": "code",
   "execution_count": null,
   "id": "4b6cb27d",
   "metadata": {},
   "outputs": [],
   "source": [
    "%%capture\n",
    "%pip install -e .[test]"
   ]
  },
  {
   "cell_type": "markdown",
   "id": "d1e8c740",
   "metadata": {},
   "source": [
    "**1. Run pytest.**"
   ]
  },
  {
   "cell_type": "code",
   "execution_count": null,
   "id": "a4b1cfa2",
   "metadata": {},
   "outputs": [],
   "source": [
    "!pytest tests/ -v"
   ]
  },
  {
   "cell_type": "markdown",
   "id": "a9054b85",
   "metadata": {},
   "source": [
    "**2. Also you can use `nbmake` for run \\*.ipynb files as tests.**"
   ]
  },
  {
   "cell_type": "code",
   "execution_count": null,
   "id": "01011710",
   "metadata": {},
   "outputs": [],
   "source": [
    "!pytest --nbmake pyspark.ipynb"
   ]
  }
 ],
 "metadata": {
  "kernelspec": {
   "display_name": "Python 3 (ipykernel)",
   "language": "python",
   "name": "python3"
  },
  "language_info": {
   "codemirror_mode": {
    "name": "ipython",
    "version": 3
   },
   "file_extension": ".py",
   "mimetype": "text/x-python",
   "name": "python",
   "nbconvert_exporter": "python",
   "pygments_lexer": "ipython3",
   "version": "3.11.10"
  }
 },
 "nbformat": 4,
 "nbformat_minor": 5
}
