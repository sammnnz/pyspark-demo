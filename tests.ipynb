{
 "cells": [
  {
   "cell_type": "markdown",
   "id": "3543b5f8",
   "metadata": {},
   "source": [
    "# Tests"
   ]
  },
  {
   "cell_type": "code",
   "execution_count": 1,
   "id": "4b6cb27d",
   "metadata": {},
   "outputs": [],
   "source": [
    "%%capture\n",
    "%pip install -e .[test]"
   ]
  },
  {
   "cell_type": "markdown",
   "id": "d1e8c740",
   "metadata": {},
   "source": [
    "**1. Run pytest.**"
   ]
  },
  {
   "cell_type": "code",
   "execution_count": 2,
   "id": "a4b1cfa2",
   "metadata": {},
   "outputs": [
    {
     "name": "stdout",
     "output_type": "stream",
     "text": [
      "\u001b[1m============================= test session starts ==============================\u001b[0m\n",
      "platform linux -- Python 3.11.10, pytest-8.4.2, pluggy-1.6.0 -- /opt/conda/bin/python3.11\n",
      "cachedir: .pytest_cache\n",
      "rootdir: /home/jovyan/work\n",
      "configfile: pyproject.toml\n",
      "plugins: nbmake-1.5.5, anyio-4.6.2.post1\n",
      "collected 2 items                                                              \u001b[0m\n",
      "\n",
      "tests/test_pyspark.py::test_get_all_rows_joins_unsafe[id-id-product_id-category_id-left] \u001b[32mPASSED\u001b[0m\u001b[32m [ 50%]\u001b[0m\n",
      "tests/test_pyspark.py::test_get_all_rows_joins_unsafe[id-id-product_id-category_id-right] \u001b[32mPASSED\u001b[0m\u001b[32m [100%]\u001b[0m\n",
      "\n",
      "\u001b[32m============================== \u001b[32m\u001b[1m2 passed\u001b[0m\u001b[32m in 10.39s\u001b[0m\u001b[32m ==============================\u001b[0m\n"
     ]
    }
   ],
   "source": [
    "!pytest tests/ -v"
   ]
  },
  {
   "cell_type": "markdown",
   "id": "a9054b85",
   "metadata": {},
   "source": [
    "**2. Also you can use `nbmake` for run \\*.ipynb files as tests.**"
   ]
  },
  {
   "cell_type": "code",
   "execution_count": 3,
   "id": "01011710",
   "metadata": {},
   "outputs": [
    {
     "name": "stdout",
     "output_type": "stream",
     "text": [
      "\u001b[1m============================= test session starts ==============================\u001b[0m\n",
      "platform linux -- Python 3.11.10, pytest-8.4.2, pluggy-1.6.0\n",
      "rootdir: /home/jovyan/work\n",
      "configfile: pyproject.toml\n",
      "plugins: nbmake-1.5.5, anyio-4.6.2.post1\n",
      "collected 1 item                                                               \u001b[0m\n",
      "\n",
      "pyspark.ipynb \u001b[32m.\u001b[0m\u001b[32m                                                          [100%]\u001b[0m\n",
      "\n",
      "Learn more about nbmake at https://github.com/treebeardtech/nbmake\n",
      "\n",
      "\n",
      "\u001b[32m============================== \u001b[32m\u001b[1m1 passed\u001b[0m\u001b[32m in 16.01s\u001b[0m\u001b[32m ==============================\u001b[0m\n"
     ]
    }
   ],
   "source": [
    "!pytest --nbmake pyspark.ipynb"
   ]
  }
 ],
 "metadata": {
  "kernelspec": {
   "display_name": "Python 3 (ipykernel)",
   "language": "python",
   "name": "python3"
  },
  "language_info": {
   "codemirror_mode": {
    "name": "ipython",
    "version": 3
   },
   "file_extension": ".py",
   "mimetype": "text/x-python",
   "name": "python",
   "nbconvert_exporter": "python",
   "pygments_lexer": "ipython3",
   "version": "3.11.10"
  }
 },
 "nbformat": 4,
 "nbformat_minor": 5
}
